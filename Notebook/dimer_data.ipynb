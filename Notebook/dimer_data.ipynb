{
 "cells": [
  {
   "cell_type": "markdown",
   "metadata": {
    "id": "vSAWRSLNXKLX"
   },
   "source": [
    "### import"
   ]
  },
  {
   "cell_type": "code",
   "execution_count": 1,
   "metadata": {},
   "outputs": [],
   "source": [
    "%matplotlib inline\n",
    "%load_ext autoreload\n",
    "%autoreload 2"
   ]
  },
  {
   "cell_type": "code",
   "execution_count": 2,
   "metadata": {
    "id": "XsAKbnPEchjr"
   },
   "outputs": [],
   "source": [
    "import sys\n",
    "import numpy as np\n",
    "import matplotlib.pyplot as plt\n",
    "\n",
    "sys.path.append(\"../Lib\")\n",
    "from mcmc import MetropolisGauss\n",
    "from particle import ParticleDimer\n",
    "from plot import plot_dimer_energy_with_data"
   ]
  },
  {
   "cell_type": "code",
   "execution_count": null,
   "metadata": {
    "id": "PVTC0Z0aw7Nx"
   },
   "outputs": [],
   "source": []
  },
  {
   "cell_type": "markdown",
   "metadata": {
    "id": "fExUlxDDXOMn"
   },
   "source": [
    "### MCMC"
   ]
  },
  {
   "cell_type": "markdown",
   "metadata": {
    "id": "iV3Fqnx2VDwR"
   },
   "source": [
    "### model"
   ]
  },
  {
   "cell_type": "code",
   "execution_count": 3,
   "metadata": {},
   "outputs": [],
   "source": [
    "model = ParticleDimer()"
   ]
  },
  {
   "cell_type": "code",
   "execution_count": 5,
   "metadata": {},
   "outputs": [
    {
     "data": {
      "image/png": "[encoded data removed]",
      "text/plain": [
       "<Figure size 432x288 with 1 Axes>"
      ]
     },
     "metadata": {
      "needs_background": "light"
     },
     "output_type": "display_data"
    }
   ],
   "source": [
    "_=model.plot_dimer_energy()"
   ]
  },
  {
   "cell_type": "markdown",
   "metadata": {
    "id": "3iEdzeIlVF9Z"
   },
   "source": [
    "### data"
   ]
  },
  {
   "cell_type": "code",
   "execution_count": null,
   "metadata": {
    "id": "0rK9eeD3w_kC"
   },
   "outputs": [],
   "source": [
    "def plot_trajectory(etraj, traj):\n",
    "    fig, axes = plt.subplots(1, 2, figsize=(10, 5))\n",
    "    axes[0].plot(etraj)\n",
    "    axes[0].set_xlabel('timestep')\n",
    "    axes[0].set_ylabel('energy')\n",
    "    dtraj = np.sqrt((traj[:, 2] - traj[:, 0])**2 + (traj[:, 3] - traj[:, 1])**2)\n",
    "    axes[1].plot(dtraj)\n",
    "    axes[1].set_xlabel('timestep')\n",
    "    axes[1].set_ylabel('dimer distance')    \n",
    "    plt.tight_layout()\n",
    "    return dtraj"
   ]
  },
  {
   "cell_type": "code",
   "execution_count": null,
   "metadata": {
    "id": "GEO2KaeswEnR"
   },
   "outputs": [],
   "source": [
    "model = ParticleDimer()"
   ]
  },
  {
   "cell_type": "code",
   "execution_count": null,
   "metadata": {
    "id": "f_BQQnwCwBgD"
   },
   "outputs": [],
   "source": [
    "nsteps = 500000\n",
    "stride = 10\n",
    "noise=0.02\n",
    "burnin=100000\n",
    "d_closed = 1.0\n",
    "d_open = 2.0"
   ]
  },
  {
   "cell_type": "code",
   "execution_count": null,
   "metadata": {
    "colab": {
     "base_uri": "https://localhost:8080/",
     "height": 404
    },
    "id": "Fhp4waAmwDoj",
    "outputId": "402f9f1a-3596-411b-a1e4-e651327232ce"
   },
   "outputs": [],
   "source": [
    "# sample closed\n",
    "x0 = model.init_positions(d_closed)\n",
    "sampler_closed = MetropolisGauss(model, x0, noise=noise, burnin=burnin, stride=stride)\n",
    "sampler_closed.run(nsteps)\n",
    "plot_trajectory(sampler_closed.etraj, sampler_closed.traj)"
   ]
  },
  {
   "cell_type": "code",
   "execution_count": null,
   "metadata": {
    "colab": {
     "base_uri": "https://localhost:8080/",
     "height": 306
    },
    "id": "6siSmcGk1J61",
    "outputId": "de65c6d5-5f3c-4c0e-f8c5-c786f9fbc7a8"
   },
   "outputs": [],
   "source": [
    "model.draw_config(sampler_closed.traj[-1], dimercolor='blue', alpha=0.8);"
   ]
  },
  {
   "cell_type": "code",
   "execution_count": null,
   "metadata": {
    "id": "VPnEIuXm6cGI"
   },
   "outputs": [],
   "source": []
  },
  {
   "cell_type": "code",
   "execution_count": null,
   "metadata": {
    "id": "__dSQRp6AEz4"
   },
   "outputs": [],
   "source": [
    "# sample open\n",
    "x0 = model.init_positions(d_open)\n",
    "sampler_open = MetropolisGauss(model, x0, noise=noise, burnin=burnin, stride=stride)\n",
    "sampler_open.run(nsteps)\n",
    "plot_trajectory(sampler_open.etraj, sampler_open.traj)"
   ]
  },
  {
   "cell_type": "code",
   "execution_count": null,
   "metadata": {
    "id": "0wJ7mrzZAJ4A"
   },
   "outputs": [],
   "source": [
    "model.draw_config(sampler_open.traj[-1], dimercolor='red', alpha=0.8)"
   ]
  },
  {
   "cell_type": "code",
   "execution_count": null,
   "metadata": {
    "id": "7kt8nKEesidq"
   },
   "outputs": [],
   "source": []
  },
  {
   "cell_type": "code",
   "execution_count": null,
   "metadata": {
    "id": "4cZeSRcvsia5"
   },
   "outputs": [],
   "source": [
    "x_open=sampler_open.traj\n",
    "x_closed=sampler_closed.traj\n",
    "x_open_dis=model.dimer_distance(x_open)\n",
    "x_closed_dis=model.dimer_distance(x_closed)"
   ]
  },
  {
   "cell_type": "code",
   "execution_count": null,
   "metadata": {},
   "outputs": [],
   "source": [
    "x_brute=np.vstack((x_open,x_closed))\n",
    "x_brute_dis=model.dimer_distance(x_brute)\n",
    "x_brute.shape"
   ]
  },
  {
   "cell_type": "code",
   "execution_count": null,
   "metadata": {
    "id": "NKGu2O8Vtayf"
   },
   "outputs": [],
   "source": [
    "def plot_dimer_energy_with_data(model, x, axis=None):\n",
    "    counts, bins = np.histogram(x, bins = 200 )\n",
    "    anchors = (bins[1:] + bins[:-1]) / 2\n",
    "    probs = counts / np.sum(counts)\n",
    "\n",
    "    anchors = anchors[np.where(probs > 0.0001)]\n",
    "    probs = probs[np.where(probs > 0.0001)]\n",
    "\n",
    "    f = -np.log(probs)\n",
    "    fn = f - np.min(f)\n",
    "    plt.scatter(anchors, fn)  \n",
    "    \"\"\" Plots the dimer energy to the standard figure \"\"\"\n",
    "    d_scan = np.linspace(0.5, 2.5, 100)\n",
    "    E_scan = model.dimer_energy_distance(d_scan)\n",
    "    E_scan -= E_scan.min()\n",
    "\n",
    "    if axis is None:\n",
    "        axis = plt.gca()\n",
    "    #plt.figure(figsize=(5, 4))\n",
    "    axis.plot(d_scan, E_scan, linewidth=2)\n",
    "    axis.set_xlabel('x / a.u.')\n",
    "    axis.set_ylabel('Energy / kT')\n",
    "    axis.set_ylim(E_scan.min() - 2.0, E_scan[int(E_scan.size / 2)] + 2.0)\n",
    "\n",
    "\n",
    "    return d_scan, E_scan"
   ]
  },
  {
   "cell_type": "code",
   "execution_count": null,
   "metadata": {
    "id": "X1z7lTQ36rtK"
   },
   "outputs": [],
   "source": [
    "x,E=plot_dimer_energy_with_data(model,x_open_dis)"
   ]
  },
  {
   "cell_type": "code",
   "execution_count": null,
   "metadata": {
    "id": "pzfO6IEm6rpX"
   },
   "outputs": [],
   "source": [
    "x,E=plot_dimer_energy_with_data(model,x_closed_dis)"
   ]
  },
  {
   "cell_type": "code",
   "execution_count": null,
   "metadata": {},
   "outputs": [],
   "source": [
    "x,E=plot_dimer_energy_with_data(model,x_brute_dis)"
   ]
  },
  {
   "cell_type": "code",
   "execution_count": null,
   "metadata": {
    "id": "E6kzkjDCtJYP"
   },
   "outputs": [],
   "source": [
    "plt.hist(sampler_closed.etraj, 50, histtype='stepfilled', color='blue', alpha=0.2);\n",
    "plt.hist(sampler_closed.etraj, 50, histtype='step', color='blue', linewidth=2);\n",
    "plt.hist(sampler_open.etraj, 50, histtype='stepfilled', color='red', alpha=0.2);\n",
    "plt.hist(sampler_open.etraj, 50, histtype='step', color='red', linewidth=2);\n",
    "plt.xlabel('Energy / kT')\n",
    "plt.yticks([])\n",
    "plt.ylabel('Probability')"
   ]
  },
  {
   "cell_type": "code",
   "execution_count": null,
   "metadata": {
    "id": "i7puyW6QsTiA"
   },
   "outputs": [],
   "source": [
    "plt.figure(figsize=(10, 4))\n",
    "ax1 = plt.subplot2grid((1, 3), (0, 0), colspan=2)\n",
    "ax2 = plt.subplot2grid((1, 3), (0, 2))\n",
    "ax1.plot(model.dimer_distance(sampler_closed.traj), color='blue', alpha=0.7)\n",
    "ax1.plot(model.dimer_distance(sampler_open.traj), color='red', alpha=0.7)\n",
    "ax1.set_xlim(0, 20000)\n",
    "ax1.set_ylim(0.5, 2.5)\n",
    "ax1.set_xlabel('Time / steps')\n",
    "ax1.set_ylabel('Dimer distance / a.u.')\n",
    "ax2.hist(model.dimer_distance(sampler_closed.traj), 30, orientation='horizontal', histtype='stepfilled', color='blue', alpha=0.2);\n",
    "ax2.hist(model.dimer_distance(sampler_closed.traj), 30, orientation='horizontal', histtype='step', color='blue', linewidth=2);\n",
    "ax2.hist(model.dimer_distance(sampler_open.traj), 30, orientation='horizontal', histtype='stepfilled', color='red', alpha=0.2);\n",
    "ax2.hist(model.dimer_distance(sampler_open.traj), 30, orientation='horizontal', histtype='step', color='red', linewidth=2);\n",
    "ax2.set_xticks([])\n",
    "ax2.set_yticks([])\n",
    "ax2.set_ylim(0.5, 2.5)\n",
    "ax2.set_xlabel('Probability')"
   ]
  },
  {
   "cell_type": "code",
   "execution_count": null,
   "metadata": {
    "id": "-iEtwVRTsTY4"
   },
   "outputs": [],
   "source": [
    "np.save('dimer_data\\dimer_data_36p',x_brute)"
   ]
  },
  {
   "cell_type": "code",
   "execution_count": null,
   "metadata": {},
   "outputs": [],
   "source": []
  }
 ],
 "metadata": {
  "colab": {
   "name": "dimer_data",
   "provenance": []
  },
  "kernelspec": {
   "display_name": "'SNF'",
   "language": "python",
   "name": "snf"
  },
  "language_info": {
   "codemirror_mode": {
    "name": "ipython",
    "version": 3
   },
   "file_extension": ".py",
   "mimetype": "text/x-python",
   "name": "python",
   "nbconvert_exporter": "python",
   "pygments_lexer": "ipython3",
   "version": "3.7.11"
  }
 },
 "nbformat": 4,
 "nbformat_minor": 1
}
