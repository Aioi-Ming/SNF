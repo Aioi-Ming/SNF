{
 "cells": [
  {
   "cell_type": "markdown",
   "metadata": {
    "id": "kRyZ1qJf-MAA"
   },
   "source": [
    "## import"
   ]
  },
  {
   "cell_type": "code",
   "execution_count": 17,
   "metadata": {
    "id": "QoLzRJBB98wX"
   },
   "outputs": [],
   "source": [
    "import numpy as np\n",
    "from scipy import stats\n",
    "import matplotlib.pyplot as plt\n",
    "import matplotlib\n",
    "\n",
    "import torch \n",
    "from torch import distributions\n",
    "from torch import nn\n",
    "from torch.utils import data"
   ]
  },
  {
   "cell_type": "code",
   "execution_count": 17,
   "metadata": {
    "id": "9sj3DEKZtg7Z"
   },
   "outputs": [],
   "source": []
  },
  {
   "cell_type": "markdown",
   "metadata": {
    "id": "EofFbLCAtjSZ"
   },
   "source": [
    "## Model_Dimer"
   ]
  },
  {
   "cell_type": "code",
   "execution_count": 18,
   "metadata": {
    "id": "7rXL2ca94BJp"
   },
   "outputs": [],
   "source": [
    "def ensure_traj(X):\n",
    "    if np.ndim(X) == 2:\n",
    "        return X\n",
    "    if np.ndim(X) == 1:\n",
    "        return np.array([X])\n",
    "    raise ValueError('Incompatible array with shape: ', np.shape(X))"
   ]
  },
  {
   "cell_type": "code",
   "execution_count": 19,
   "metadata": {
    "id": "IxvN5IrU4DZh"
   },
   "outputs": [],
   "source": [
    "def distance_matrix_squared(crd1, crd2, dim=2):\n",
    "    \"\"\" Returns the distance matrix or matrices between particles\n",
    "    Parameters\n",
    "    ----------\n",
    "    crd1 : array or matrix\n",
    "        first coordinate set\n",
    "    crd2 : array or matrix\n",
    "        second coordinate set\n",
    "    dim : int\n",
    "        dimension of particle system. If d=2, coordinate vectors are [x1, y1, x2, y2, ...]\n",
    "    \"\"\"\n",
    "    crd1 = ensure_traj(crd1)\n",
    "    crd2 = ensure_traj(crd2)\n",
    "    n = int(np.shape(crd1)[1]/dim)\n",
    "\n",
    "    crd1_components = [np.tile(np.expand_dims(crd1[:, i::dim], 2), (1, 1, n)) for i in range(dim)]\n",
    "    crd2_components = [np.tile(np.expand_dims(crd2[:, i::dim], 2), (1, 1, n)) for i in range(dim)]\n",
    "    D2_components = [(crd1_components[i] - np.transpose(crd2_components[i], axes=(0, 2, 1)))**2 for i in range(dim)]\n",
    "    D2 = np.sum(D2_components, axis=0)\n",
    "    return D2"
   ]
  },
  {
   "cell_type": "code",
   "execution_count": 20,
   "metadata": {
    "id": "1qSszJLfvtkp"
   },
   "outputs": [],
   "source": [
    "class ParticleDimer(object):\n",
    "\n",
    "    params_default = {\n",
    "        'nsolvent' : 4,\n",
    "        'eps' : 1.0,  # LJ prefactor\n",
    "        'rm' : 1.1,  # LJ particle size\n",
    "        #'dimer_slope' : -0.5,  # dimer slope parameter\n",
    "        'dimer_slope' : 0.0,  # dimer slope parameter\n",
    "        'dimer_a' : 25.0,  # dimer x2 parameter\n",
    "        'dimer_b' : 10.0,  # dimer x4 parameter\n",
    "        'dimer_dmid' : 1.5,  # dimer transition state distance\n",
    "        'dimer_k' : 20.0,  # dimer force constant\n",
    "        'box_halfsize' : 3.0,\n",
    "        'box_k' : 100.0,  # box repulsion force constant\n",
    "        'grid_k' : 0.0,  # restraint strength to particle grid (to avoid permutation)\n",
    "        }\n",
    "\n",
    "    def __init__(self, params=None):\n",
    "        # set parameters\n",
    "        if params is None:\n",
    "            params = self.__class__.params_default\n",
    "        self.params = params\n",
    "\n",
    "        # useful variables\n",
    "        self.nparticles = params['nsolvent'] + 2\n",
    "        self.dim = 2 * self.nparticles\n",
    "\n",
    "        # create mask matrix to help computing particle interactions\n",
    "        self.mask_matrix = torch.tensor(np.ones((self.nparticles, self.nparticles), dtype=np.float32))\n",
    "        self.mask_matrix[0, 1] = 0.0\n",
    "        self.mask_matrix[1, 0] = 0.0\n",
    "        for i in range(self.nparticles):\n",
    "            self.mask_matrix[i, i] = 0.0\n",
    "\n",
    "        # save grid to compute position restraints\n",
    "        self.grid = self.init_positions(params['dimer_dmid'])\n",
    "\n",
    "\n",
    "    # initialization\n",
    "    def init_positions(self, dimer_distance, scaling_factor=1.05):\n",
    "        \"\"\" Initializes particles positions in a box\n",
    "        Parameters:\n",
    "        -----------\n",
    "        dimer_distance : float\n",
    "            initial dimer distance\n",
    "        scaling_factor : float\n",
    "            scaling factor to be applied to the configuration\n",
    "        \"\"\"\n",
    "        # dimer\n",
    "        pos = []\n",
    "        pos.append(np.array([-0.5*dimer_distance, 0]))\n",
    "        pos.append(np.array([0.5*dimer_distance, 0]))\n",
    "        # solvent particles\n",
    "        sqrtn = int(np.sqrt(self.params['nsolvent']))\n",
    "        locs = np.linspace(-self.params['box_halfsize']-1, self.params['box_halfsize']+1, sqrtn+2)[1:-1]\n",
    "        for i in range(0, sqrtn):\n",
    "            for j in range(0, sqrtn):\n",
    "                pos.append(np.array([locs[i], locs[j]]))\n",
    "        pos = np.array(pos).reshape((1, 2*(self.params['nsolvent']+2)))\n",
    "        return scaling_factor * pos\n",
    "\n",
    "    def draw_config(self, x, axis=None, dimercolor='blue', alpha=0.7):\n",
    "        import matplotlib.pyplot as plt\n",
    "        from matplotlib.patches import Rectangle, Circle\n",
    "\n",
    "        # prepare data\n",
    "        X = x.reshape(((self.params['nsolvent']+2), 2))\n",
    "        # set up figure\n",
    "        if axis is None:\n",
    "            plt.figure(figsize=(5, 5))\n",
    "            axis = plt.gca()\n",
    "        #fig, ax = plt.subplots(figsize=(5, 5))\n",
    "        d = self.params['box_halfsize']\n",
    "        axis.set_xlim((-d, d))\n",
    "        axis.set_ylim((-d, d))\n",
    "        # draw box\n",
    "        axis.add_patch(Rectangle((-d-self.params['rm'], -d-self.params['rm']),\n",
    "                                 2*d+2*self.params['rm'], 0.5*self.params['rm'], color='lightgrey', linewidth=0))\n",
    "        axis.add_patch(Rectangle((-d-self.params['rm'], d+0.5*self.params['rm']),\n",
    "                                 2*d+2*self.params['rm'], 0.5*self.params['rm'], color='lightgrey', linewidth=0))\n",
    "        axis.add_patch(Rectangle((-d-self.params['rm'], -d-self.params['rm']),\n",
    "                                 0.5*self.params['rm'], 2*d+2*self.params['rm'], color='lightgrey', linewidth=0))\n",
    "        axis.add_patch(Rectangle((d+0.5*self.params['rm'], -d-self.params['rm']),\n",
    "                                 0.5*self.params['rm'], 2*d+2*self.params['rm'], color='lightgrey', linewidth=0))\n",
    "        # draw solvent\n",
    "        circles = []\n",
    "        for x in X[2:]:\n",
    "            circles.append(axis.add_patch(Circle(x, radius=0.5*self.params['rm'],\n",
    "                                                 linewidth=2, edgecolor='black', facecolor='grey', alpha=alpha)))\n",
    "        # draw dimer\n",
    "        circles.append(axis.add_patch(Circle(X[0], radius=0.5*self.params['rm'],\n",
    "                                             linewidth=2, edgecolor='black', facecolor=dimercolor, alpha=alpha)))\n",
    "        circles.append(axis.add_patch(Circle(X[1], radius=0.5*self.params['rm'],\n",
    "                                             linewidth=2, edgecolor='black', facecolor=dimercolor, alpha=alpha)))\n",
    "        #plot(X[:, 0], X[:, 1], linewidth=0, marker='o', color='black')\n",
    "        axis.set_xlim(-4, 4)\n",
    "        axis.set_ylim(-4, 4)\n",
    "        axis.set_xticks([])\n",
    "        axis.set_yticks([])\n",
    "        #return(fig, ax, circles)\n",
    "\n",
    "    # ANIMATE\n",
    "    #def animate(i):\n",
    "    #    X = traj1[i].reshape(n+2, 2)\n",
    "    #    for i, x in enumerate(X):\n",
    "    #        circles[i].center = x\n",
    "    #    return circles\n",
    "\n",
    "    def dimer_distance(self, x):\n",
    "        return np.sqrt((x[:, 2] - x[:, 0])**2 + (x[:, 3] - x[:, 1])**2)\n",
    "\n",
    "#    def dimer_distance_tf(self, x):\n",
    "#        return tf.sqrt((x[:, 2] - x[:, 0])**2 + (x[:, 3] - x[:, 1])**2)\n",
    "\n",
    "    def dimer_distance_torch(self,x):\n",
    "        return torch.sqrt((x[:, 2] - x[:, 0])**2 + (x[:, 3] - x[:, 1])**2)\n",
    "\n",
    "    def _distance_squared_matrix(self, crd1, crd2):\n",
    "        return distance_matrix_squared(crd1, crd2, dim=2)\n",
    "\n",
    "    def LJ_energy(self, x):\n",
    "        # all component-wise distances bet\n",
    "        batchsize = np.shape(x)[0]\n",
    "        D2 = self._distance_squared_matrix(x, x)\n",
    "        mmatrix = np.tile(np.expand_dims(self.mask_matrix, 0), (batchsize, 1, 1))\n",
    "        D2 = D2 + (1.0 - mmatrix)  # this is just to avoid NaNs, the inverses will be set to 0 later\n",
    "        D2rel = (self.params['rm']**2) / D2\n",
    "        # remove self-interactions and interactions between dimer particles\n",
    "        D2rel = D2rel * mmatrix\n",
    "        # energy\n",
    "        E = 0.5*self.params['eps']*np.sum(D2rel**6, axis=(1, 2))  # do 1/2 because we have double-counted each interaction\n",
    "        return E\n",
    "\n",
    "    def LJ_energy_torch(self, x):\n",
    "        # all component-wise distances bet\n",
    "        xcomp = x[:, 0::2]\n",
    "        ycomp = x[:, 1::2]\n",
    "        batchsize=x.shape[0]\n",
    "        n = xcomp.shape[1]\n",
    "#        batchsize = torch.shape(x)[0]\n",
    "#        n = torch.shape(xcomp)[1]\n",
    "        Xcomp = torch.tile(torch.unsqueeze(xcomp, 2), [1, 1, n])\n",
    "        Ycomp = torch.tile(torch.unsqueeze(ycomp, 2), [1, 1, n])\n",
    "        Dx = Xcomp - torch.transpose(Xcomp, 1, 2)\n",
    "        Dy = Ycomp - torch.transpose(Ycomp, 1, 2)\n",
    "        D2 = Dx**2 + Dy**2\n",
    "        mmatrix = torch.tile(torch.unsqueeze(self.mask_matrix, 0), [batchsize, 1, 1])\n",
    "        D2 = D2 + (1.0 - mmatrix)  # this is just to avoid NaNs, the inverses will be set to 0 later\n",
    "        D2rel = (self.params['rm']**2) / D2\n",
    "        # remove self-interactions and interactions between dimer particles\n",
    "        D2rel = D2rel * mmatrix\n",
    "        # energy\n",
    "        E = 0.5*self.params['eps']*torch.sum(D2rel**6, axis=(1, 2))  # do 1/2 because we have double-counted each interaction\n",
    "        return E\n",
    "\n",
    "    def LJ_energy_tf(self, x):\n",
    "        # all component-wise distances bet\n",
    "        xcomp = x[:, 0::2]\n",
    "        ycomp = x[:, 1::2]\n",
    "        batchsize = tf.shape(x)[0]\n",
    "        n = tf.shape(xcomp)[1]\n",
    "        Xcomp = tf.tile(tf.expand_dims(xcomp, 2), [1, 1, n])\n",
    "        Ycomp = tf.tile(tf.expand_dims(ycomp, 2), [1, 1, n])\n",
    "        Dx = Xcomp - tf.transpose(Xcomp, perm=[0, 2, 1])\n",
    "        Dy = Ycomp - tf.transpose(Ycomp, perm=[0, 2, 1])\n",
    "        D2 = Dx**2 + Dy**2\n",
    "        mmatrix = tf.tile(tf.expand_dims(self.mask_matrix, 0), [batchsize, 1, 1])\n",
    "        D2 = D2 + (1.0 - mmatrix)  # this is just to avoid NaNs, the inverses will be set to 0 later\n",
    "        D2rel = (self.params['rm']**2) / D2\n",
    "        # remove self-interactions and interactions between dimer particles\n",
    "        D2rel = D2rel * mmatrix\n",
    "        # energy\n",
    "        E = 0.5*self.params['eps']*tf.reduce_sum(D2rel**6, axis=(1, 2))  # do 1/2 because we have double-counted each interaction\n",
    "        return E\n",
    "    \n",
    "    def dimer_energy_distance(self, d):\n",
    "      d0 = 2 * (d - self.params['dimer_dmid'])\n",
    "      d2 = d0*d0\n",
    "      d4 = d2*d2\n",
    "      energy_interaction = self.params['dimer_slope']*d0 - self.params['dimer_a']*d2 + self.params['dimer_b']*d4\n",
    "      return energy_interaction\n",
    "    \n",
    "    def dimer_energy(self, x):\n",
    "        # center restraint energy\n",
    "        energy_dx = self.params['dimer_k']*(x[:, 0] + x[:, 2])**2\n",
    "        # y restraint energy\n",
    "        energy_dy = self.params['dimer_k']*(x[:, 1])**2 + self.params['dimer_k']*(x[:, 3])**2\n",
    "        # first two particles\n",
    "        d = np.sqrt((x[:, 0]-x[:, 2])**2 + (x[:, 1]-x[:, 3])**2)\n",
    "        d0 = 2 * (d - self.params['dimer_dmid'])\n",
    "        d2 = d0*d0\n",
    "        d4 = d2*d2\n",
    "        energy_interaction = self.params['dimer_slope']*d0 - self.params['dimer_a']*d2 + self.params['dimer_b']*d4\n",
    "\n",
    "        return energy_dx + energy_dy + energy_interaction\n",
    "\n",
    "    def dimer_energy_tf(self, x):\n",
    "        # center restraint energy\n",
    "        energy_dx = self.params['dimer_k']*(x[:, 0] + x[:, 2])**2\n",
    "        # y restraint energy\n",
    "        energy_dy = self.params['dimer_k']*(x[:, 1])**2 + self.params['dimer_k']*(x[:, 3])**2\n",
    "        # first two particles\n",
    "        d = tf.sqrt((x[:, 0]-x[:, 2])**2 + (x[:, 1]-x[:, 3])**2)\n",
    "        d0 = 2 * (d - self.params['dimer_dmid'])\n",
    "        d2 = d0*d0\n",
    "        d4 = d2*d2\n",
    "        energy_interaction = self.params['dimer_slope']*d0 - self.params['dimer_a']*d2 + self.params['dimer_b']*d4\n",
    "\n",
    "        return energy_dx + energy_dy + energy_interaction\n",
    "\n",
    "    def dimer_energy_torch(self, x):\n",
    "        # center restraint energy\n",
    "        energy_dx = self.params['dimer_k']*(x[:, 0] + x[:, 2])**2\n",
    "        # y restraint energy\n",
    "        energy_dy = self.params['dimer_k']*(x[:, 1])**2 + self.params['dimer_k']*(x[:, 3])**2\n",
    "        # first two particles\n",
    "        d = torch.sqrt((x[:, 0]-x[:, 2])**2 + (x[:, 1]-x[:, 3])**2)\n",
    "        d0 = 2 * (d - self.params['dimer_dmid'])\n",
    "        d2 = d0*d0\n",
    "        d4 = d2*d2\n",
    "        energy_interaction = self.params['dimer_slope']*d0 - self.params['dimer_a']*d2 + self.params['dimer_b']*d4\n",
    "\n",
    "        return energy_dx + energy_dy + energy_interaction\n",
    "\n",
    "    def box_energy(self, x):\n",
    "        xcomp = x[:, 0::2]\n",
    "        ycomp = x[:, 1::2]\n",
    "        # indicator functions\n",
    "        E = 0.0\n",
    "        d_left = -(xcomp + self.params['box_halfsize'])\n",
    "        E += np.sum((np.sign(d_left) + 1) * self.params['box_k'] * d_left**2, axis=1)\n",
    "        d_right = (xcomp - self.params['box_halfsize'])\n",
    "        E += np.sum((np.sign(d_right) + 1) * self.params['box_k'] * d_right**2, axis=1)\n",
    "        d_down = -(ycomp + self.params['box_halfsize'])\n",
    "        E += np.sum((np.sign(d_down) + 1) * self.params['box_k'] * d_down**2, axis=1)\n",
    "        d_up = (ycomp - self.params['box_halfsize'])\n",
    "        E += np.sum((np.sign(d_up) + 1) * self.params['box_k'] * d_up**2, axis=1)\n",
    "        return E\n",
    "\n",
    "    def box_energy_tf(self, x):\n",
    "        xcomp = x[:, 0::2]\n",
    "        ycomp = x[:, 1::2]\n",
    "        # indicator functions\n",
    "        E = 0.0\n",
    "        d_left = -(xcomp + self.params['box_halfsize'])\n",
    "        E += tf.reduce_sum((tf.sign(d_left) + 1) * self.params['box_k'] * d_left**2, axis=1)\n",
    "        d_right = (xcomp - self.params['box_halfsize'])\n",
    "        E += tf.reduce_sum((tf.sign(d_right) + 1) * self.params['box_k'] * d_right**2, axis=1)\n",
    "        d_down = -(ycomp + self.params['box_halfsize'])\n",
    "        E += tf.reduce_sum((tf.sign(d_down) + 1) * self.params['box_k'] * d_down**2, axis=1)\n",
    "        d_up = (ycomp - self.params['box_halfsize'])\n",
    "        E += tf.reduce_sum((tf.sign(d_up) + 1) * self.params['box_k'] * d_up**2, axis=1)\n",
    "        return E\n",
    "\n",
    "    def box_energy_torch(self, x):\n",
    "        xcomp = x[:, 0::2]\n",
    "        ycomp = x[:, 1::2]\n",
    "        # indicator functions\n",
    "        E = 0.0\n",
    "        d_left = -(xcomp + self.params['box_halfsize'])\n",
    "        E += torch.sum((torch.sign(d_left) + 1) * self.params['box_k'] * d_left**2, axis=1)\n",
    "        d_right = (xcomp - self.params['box_halfsize'])\n",
    "        E += torch.sum((torch.sign(d_right) + 1) * self.params['box_k'] * d_right**2, axis=1)\n",
    "        d_down = -(ycomp + self.params['box_halfsize'])\n",
    "        E += torch.sum((torch.sign(d_down) + 1) * self.params['box_k'] * d_down**2, axis=1)\n",
    "        d_up = (ycomp - self.params['box_halfsize'])\n",
    "        E += torch.sum((torch.sign(d_up) + 1) * self.params['box_k'] * d_up**2, axis=1)\n",
    "        return E\n",
    "\n",
    "    def grid_energy(self, x):\n",
    "        d2 = (x - self.grid)**2\n",
    "        E = np.sum(self.params['grid_k'] * (self.params['rm']**2 * d2) ** 6, axis=1)\n",
    "        return E\n",
    "\n",
    "    def grid_energy_torch(self, x):\n",
    "        d2 = (x - self.grid)**2\n",
    "        E = torch.sum(self.params['grid_k'] * (self.params['rm']**2 * d2) ** 6, axis=1)\n",
    "        return E  \n",
    "\n",
    "    def grid_energy_tf(self, x):\n",
    "        d2 = (x - self.grid)**2\n",
    "        E = tf.reduce_sum(self.params['grid_k'] * (self.params['rm']**2 * d2) ** 6, axis=1)\n",
    "        return E\n",
    "\n",
    "    def energy_torch(self, x):\n",
    "        return self.LJ_energy_torch(x) + self.dimer_energy_torch(x) + self.box_energy_torch(x) + self.box_energy_torch(x)\n",
    "\n",
    "\n",
    "    def _energy(self, x):\n",
    "        return self.LJ_energy(x) + self.dimer_energy(x) + self.box_energy(x) + self.grid_energy(x)\n",
    "\n",
    "    def energy(self, x):\n",
    "        if x.shape[0] < 10000:\n",
    "            return self._energy(x)\n",
    "        else:\n",
    "            energy_x = np.zeros(x.shape[0])\n",
    "            for i in range(0, len(energy_x), 10000):\n",
    "                i_from = i\n",
    "                i_to = min(i_from + 10000, len(energy_x))\n",
    "                energy_x[i_from:i_to] = self._energy(x[i_from:i_to])\n",
    "            return energy_x\n",
    "\n",
    "    def energy_tf(self, x):\n",
    "        return self.LJ_energy_tf(x) + self.dimer_energy_tf(x) + self.box_energy_tf(x) + self.box_energy_tf(x)\n",
    "\n",
    "    def plot_dimer_energy(self, axis=None):\n",
    "        \"\"\" Plots the dimer energy to the standard figure \"\"\"\n",
    "        x_scan = np.linspace(0.5, 2.5, 100)\n",
    "        E_scan = self.dimer_energy(np.array([1.5-0.5*x_scan, np.zeros(100), 1.5+0.5*x_scan, np.zeros(100)]).T)\n",
    "        E_scan -= E_scan.min()\n",
    "\n",
    "        if axis is None:\n",
    "            axis = plt.gca()\n",
    "        #plt.figure(figsize=(5, 4))\n",
    "        axis.plot(x_scan, E_scan, linewidth=2)\n",
    "        axis.set_xlabel('x / a.u.')\n",
    "        axis.set_ylabel('Energy / kT')\n",
    "        axis.set_ylim(E_scan.min() - 2.0, E_scan[int(E_scan.size / 2)] + 2.0)\n",
    "\n",
    "\n",
    "        return x_scan, E_scan"
   ]
  },
  {
   "cell_type": "markdown",
   "metadata": {
    "id": "zbYHDPu--Oxc"
   },
   "source": [
    "## Model_BG"
   ]
  },
  {
   "cell_type": "code",
   "execution_count": 21,
   "metadata": {
    "id": "heRQ9JFdqDtR"
   },
   "outputs": [],
   "source": [
    "class BG_RealNVP(nn.Module):\n",
    "  def __init__(self,target,dim,stochastic=False,step_size=0.25,nsteps=10,n_hidden=256,n_block=5,masks=None,nets=None,nett=None):\n",
    "    super(BG_RealNVP,self).__init__()\n",
    "    self.stochastic=stochastic\n",
    "    self.step_size=step_size\n",
    "    self.nsteps=nsteps\n",
    "    self.target_model=target\n",
    "    self.n_hidden=n_hidden\n",
    "    self.n_block=n_block\n",
    "    self.dim=dim\n",
    "\n",
    "    if nets==None:\n",
    "      nets = lambda: nn.Sequential(nn.Linear(self.dim, self.n_hidden), nn.ReLU(), nn.Linear(self.n_hidden, self.n_hidden), nn.ReLU(), nn.Linear(self.n_hidden, self.dim), nn.Tanh())\n",
    "    if nett==None:\n",
    "      nett = lambda: nn.Sequential(nn.Linear(self.dim, self.n_hidden), nn.ReLU(), nn.Linear(self.n_hidden, self.n_hidden), nn.ReLU(), nn.Linear(self.n_hidden, self.dim))\n",
    "\n",
    "    self.prior = distributions.MultivariateNormal(torch.zeros(self.dim), torch.eye(self.dim))\n",
    "\n",
    "\n",
    "    if masks==None:\n",
    "      self.masks = nn.Parameter(torch.from_numpy(np.array([np.tile([0,1],int(self.dim/2)), np.tile([1,0],int(self.dim/2))] * self.n_block).astype(np.float32)), requires_grad=False)\n",
    "\n",
    "    self.nett = torch.nn.ModuleList([nett() for _ in range(len(self.masks))]) # translation function (net)\n",
    "    self.nets = torch.nn.ModuleList([nets() for _ in range(len(self.masks))]) # scaling function (net)\n",
    "\n",
    "  def target_energy(self,x):\n",
    "    return self.target_model.energy_torch(x)\n",
    "\n",
    "  def prior_energy(self, z):\n",
    "    return 0.5*torch.linalg.norm(z,dim=1)**2\n",
    "\n",
    "  def forward_flow(self,z):\n",
    "\n",
    "    log_R_zx, x = z.new_zeros(z.shape[0]), z\n",
    "\n",
    "    for i in range(len(self.masks)):\n",
    "      x1= x*self.masks[i]\n",
    "\n",
    "      s=self.nets[i](x1)*(1-self.masks[i])\n",
    "      t=self.nett[i](x1)*(1-self.masks[i])\n",
    "\n",
    "      x=x1+(1-self.masks[i])* (x*torch.exp(s)+t)\n",
    "      log_R_zx+=torch.sum(s,-1)\n",
    "    return x, log_R_zx\n",
    "\n",
    "  def backward_flow(self,x):\n",
    "    log_R_xz, z = x.new_zeros(x.shape[0]), x\n",
    "\n",
    "    for i in reversed(range(len(self.masks))):\n",
    "\n",
    "      z1= z*self.masks[i]\n",
    "\n",
    "      s=self.nets[i](z1)*(1-self.masks[i])\n",
    "      t=self.nett[i](z1)*(1-self.masks[i])\n",
    "\n",
    "      z=z1+(1-self.masks[i])*(z-t)*torch.exp(-s)\n",
    "      log_R_xz-=torch.sum(s,-1)\n",
    "\n",
    "    return z, log_R_xz\n",
    "\n",
    "  def sample(self, batchSize):\n",
    "      z = self.prior.sample((batchSize,))\n",
    "#      logp = self.prior.log_prob(z)\n",
    "      x, log_R_zx = self.forward_flow(z)\n",
    "      return z.detach().numpy() , x.detach().numpy(), log_R_zx.detach().numpy()\n",
    "\n",
    "  def loss(self, batch, w_ml = 1.0, w_kl = 0.0, w_rc = 0.0):\n",
    "      return w_ml*self.loss_ml(batch) + w_kl*self.loss_kl(batch) + w_rc*self.loss_rc(batch)  \n",
    "\n",
    "  def loss_ml(self, batch_x):\n",
    "      z, log_R_xz = self.backward_flow(batch_x)\n",
    "      energy=0.5*torch.linalg.norm(z,dim=1)**2\n",
    "      return torch.mean(energy-log_R_xz)\n",
    "\n",
    "  def loss_kl(self, batch_z):\n",
    "      x, log_R_zx = self.forward_flow(batch_z)\n",
    "      energy=self.target_energy(x)\n",
    "#      e_high=1e5\n",
    "#      for i in range(len(energy)):\n",
    "#        if abs(energy[i]) == float('inf'):\n",
    "#                print(\"energy overflow detected\")\n",
    "#        elif energy[i] > e_high:\n",
    "#                energy[i] = e_high + torch.log(energy[i] - e_high + 1.0)\n",
    "\n",
    "      return torch.mean(energy - log_R_zx)  \n",
    "\n",
    "  def loss_mix(self, batch_x, batch_z=None, w_kl=0.5, w_ml=0.5):\n",
    "      if batch_z==None:\n",
    "          batch_z = self.prior.sample((batch_x.shape[0],))\n",
    "      return w_kl*self.loss_kl(batch_z)+w_ml*self.loss_ml(batch_x) \n",
    "    \n",
    "  def train_mix(self, x_training_set, z_training_set=None, iter=200, lr=1e-3, batch_size=1024,w_kl=0.5,w_ml=0.5):\n",
    "      optimizer = torch.optim.Adam(self.parameters(), lr=lr)\n",
    "      trainloader = data.DataLoader(dataset=x_training_set, batch_size=batch_size)\n",
    "      losses = []\n",
    "      t = 0 # iteration count\n",
    "      while t < iter:\n",
    "          for batch_x in trainloader:  \n",
    "\n",
    "              # Custom ML loss function\n",
    "              loss = self.loss_mix(batch_x=batch_x, w_kl=w_kl, w_ml=w_ml) \n",
    "              losses.append(loss.item()) # save values for plotting later \n",
    "\n",
    "              # Training\n",
    "              optimizer.zero_grad() # Set grads to zero, else PyTorch will accumulate gradients on each backprop\n",
    "              loss.backward(retain_graph=True)\n",
    "              optimizer.step()\n",
    "              t=t+1\n",
    "\n",
    "      return losses\n",
    "\n",
    "  def train_ML(self, training_data, iter=200, lr=1e-3, batch_size=1024):\n",
    "\n",
    "      optimizer = torch.optim.Adam(self.parameters(), lr=lr) \n",
    "      trainloader = data.DataLoader(dataset=training_data, batch_size=batch_size)\n",
    "\n",
    "      losses = []\n",
    "      t = 0 # iteration count\n",
    "      while t < iter:\n",
    "          for batch in trainloader:  \n",
    "\n",
    "              # Custom ML loss function\n",
    "              loss = self.loss_ml(batch) \n",
    "              losses.append(loss.item()) # save values for plotting later \n",
    "\n",
    "              # Training\n",
    "              optimizer.zero_grad() # Set grads to zero, else PyTorch will accumulate gradients on each backprop\n",
    "              loss.backward(retain_graph=True)\n",
    "              optimizer.step()\n",
    "              t=t+1\n",
    "\n",
    "      return losses\n",
    "\n",
    "  def train_KL(self, training_data=None, training_data_size=1000, iter=200, lr=1e-3, batch_size=1024):\n",
    "      if training_data==None:\n",
    "          training_data=self.prior.sample((training_data_size,))\n",
    "      optimizer = torch.optim.Adam(self.parameters(), lr=lr)\n",
    "      trainloader = data.DataLoader(dataset=training_data, batch_size=batch_size)\n",
    "      losses = []\n",
    "      t = 0 # iteration count\n",
    "      while t < iter:\n",
    "          for batch in trainloader:  \n",
    "\n",
    "              # Custom ML loss function\n",
    "              loss = self.loss_kl(batch) \n",
    "              losses.append(loss.item()) # save values for plotting later \n",
    "\n",
    "              # Training\n",
    "              optimizer.zero_grad() # Set grads to zero, else PyTorch will accumulate gradients on each backprop\n",
    "              loss.backward(retain_graph=True)\n",
    "              optimizer.step()\n",
    "              t=t+1\n",
    "\n",
    "      return losses"
   ]
  },
  {
   "cell_type": "code",
   "execution_count": 21,
   "metadata": {
    "id": "0SrqqjXsqDnC"
   },
   "outputs": [],
   "source": []
  },
  {
   "cell_type": "code",
   "execution_count": 21,
   "metadata": {
    "id": "TDK4oDNKv0Mp"
   },
   "outputs": [],
   "source": []
  },
  {
   "cell_type": "code",
   "execution_count": 21,
   "metadata": {
    "id": "82eVwHp-8rzW"
   },
   "outputs": [],
   "source": []
  },
  {
   "cell_type": "markdown",
   "metadata": {
    "id": "z3SCK6xjv0dZ"
   },
   "source": [
    "## Data"
   ]
  },
  {
   "cell_type": "code",
   "execution_count": 22,
   "metadata": {
    "id": "qFYOfjuLSylo"
   },
   "outputs": [],
   "source": [
    "x_brute=np.load('dimer_data_1p.npy')"
   ]
  },
  {
   "cell_type": "markdown",
   "metadata": {
    "id": "Fli4mA0vP-qR"
   },
   "source": [
    "## train"
   ]
  },
  {
   "cell_type": "code",
   "execution_count": 23,
   "metadata": {
    "id": "Mzj5ykEZv8tR"
   },
   "outputs": [],
   "source": [
    "model_dimer=ParticleDimer()"
   ]
  },
  {
   "cell_type": "code",
   "execution_count": 24,
   "metadata": {
    "colab": {
     "base_uri": "https://localhost:8080/",
     "height": 268
    },
    "id": "t95bedqgS6bp",
    "outputId": "40c8dfc4-de10-40db-fafd-a57854b22cc0"
   },
   "outputs": [
    {
     "data": {
      "image/png": "[encoded data removed]",
      "text/plain": [
       "<Figure size 432x288 with 1 Axes>"
      ]
     },
     "metadata": {
      "needs_background": "light"
     },
     "output_type": "display_data"
    }
   ],
   "source": [
    "x_brute_d=model_dimer.dimer_distance(x_brute)\n",
    "plt.hist(x_brute_d,bins=100)\n",
    "plt.show()"
   ]
  },
  {
   "cell_type": "code",
   "execution_count": 25,
   "metadata": {
    "id": "r8Z-48x0tYFb"
   },
   "outputs": [],
   "source": [
    "model_BG=BG_RealNVP(model_dimer,dim=model_dimer.dim)"
   ]
  },
  {
   "cell_type": "code",
   "execution_count": 26,
   "metadata": {
    "colab": {
     "base_uri": "https://localhost:8080/"
    },
    "id": "TR9MtNw4_xmH",
    "outputId": "5ebf905a-c28b-4414-beec-864d457c93f4"
   },
   "outputs": [
    {
     "data": {
      "text/plain": [
       "(199980, 12)"
      ]
     },
     "execution_count": 26,
     "metadata": {},
     "output_type": "execute_result"
    }
   ],
   "source": [
    "x_brute.shape"
   ]
  },
  {
   "cell_type": "code",
   "execution_count": 42,
   "metadata": {
    "id": "t7Oyyn_pwWin"
   },
   "outputs": [],
   "source": [
    "loss=model_BG.train_ML(x_brute,iter=300,lr=1e-4,batch_size=2048)"
   ]
  },
  {
   "cell_type": "code",
   "execution_count": 43,
   "metadata": {
    "colab": {
     "base_uri": "https://localhost:8080/",
     "height": 282
    },
    "id": "BdlttbthTWtC",
    "outputId": "969f905e-fa6b-4ab8-9738-419f13b66cf0"
   },
   "outputs": [
    {
     "data": {
      "text/plain": [
       "[<matplotlib.lines.Line2D at 0x7f1e2e07c090>]"
      ]
     },
     "execution_count": 43,
     "metadata": {},
     "output_type": "execute_result"
    },
    {
     "data": {
      "image/png": "[encoded data removed]",
      "text/plain": [
       "<Figure size 432x288 with 1 Axes>"
      ]
     },
     "metadata": {
      "needs_background": "light"
     },
     "output_type": "display_data"
    }
   ],
   "source": [
    "plt.plot(loss)"
   ]
  },
  {
   "cell_type": "code",
   "execution_count": 44,
   "metadata": {
    "id": "nclLZcHxP7sU"
   },
   "outputs": [],
   "source": [
    "z,x,dw=model_BG.sample(1000)"
   ]
  },
  {
   "cell_type": "code",
   "execution_count": 45,
   "metadata": {
    "id": "H-LjqxA7SgIy"
   },
   "outputs": [],
   "source": [
    "x_d=model_dimer.dimer_distance(x)"
   ]
  },
  {
   "cell_type": "code",
   "execution_count": 46,
   "metadata": {
    "colab": {
     "base_uri": "https://localhost:8080/",
     "height": 265
    },
    "id": "4UrtmmGlSRFv",
    "outputId": "967388a2-bc7a-4308-bb8f-a42e7181be25"
   },
   "outputs": [
    {
     "data": {
      "image/png": "[encoded data removed]",
      "text/plain": [
       "<Figure size 432x288 with 1 Axes>"
      ]
     },
     "metadata": {
      "needs_background": "light"
     },
     "output_type": "display_data"
    }
   ],
   "source": [
    "plt.hist(x_d,bins=100)\n",
    "plt.show()"
   ]
  },
  {
   "cell_type": "code",
   "execution_count": 47,
   "metadata": {
    "colab": {
     "base_uri": "https://localhost:8080/",
     "height": 306
    },
    "id": "39STrVqcStTJ",
    "outputId": "a1897f7d-fedf-4b0f-ab46-3a6522cf8c95"
   },
   "outputs": [
    {
     "data": {
      "image/png": "[encoded data removed]",
      "text/plain": [
       "<Figure size 360x360 with 1 Axes>"
      ]
     },
     "metadata": {},
     "output_type": "display_data"
    }
   ],
   "source": [
    "model_dimer.draw_config(x[0])"
   ]
  },
  {
   "cell_type": "code",
   "execution_count": null,
   "metadata": {
    "id": "OPVy8rCE5xLw"
   },
   "outputs": [],
   "source": []
  }
 ],
 "metadata": {
  "colab": {
   "name": "BG_dimer",
   "provenance": []
  },
  "kernelspec": {
   "display_name": "Python 3 (ipykernel)",
   "language": "python",
   "name": "python3"
  },
  "language_info": {
   "codemirror_mode": {
    "name": "ipython",
    "version": 3
   },
   "file_extension": ".py",
   "mimetype": "text/x-python",
   "name": "python",
   "nbconvert_exporter": "python",
   "pygments_lexer": "ipython3",
   "version": "3.9.7"
  }
 },
 "nbformat": 4,
 "nbformat_minor": 1
}
